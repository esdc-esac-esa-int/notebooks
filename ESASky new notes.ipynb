{
 "cells": [
  {
   "cell_type": "markdown",
   "metadata": {},
   "source": [
    "# Notes for new notebooks\n",
    "\n",
    "\n",
    "Authors: ...\n",
    "\n",
    "First you need to install `astroquery` which contains esasky.\n",
    "\n",
    "Astroquery can be installed with `pip install --pre astroquery`, the latest version should come with esasky. \n",
    "\n",
    "The documentation for `astroquery.esasky` is available [here](https://astroquery.readthedocs.io/en/latest/esasky/esasky.html).\n"
   ]
  },
  {
   "cell_type": "code",
   "execution_count": 1,
   "metadata": {
    "jupyter": {
     "outputs_hidden": true
    }
   },
   "outputs": [
    {
     "name": "stdout",
     "output_type": "stream",
     "text": [
      "Created TAP+ (v20200428.1) - Connection:\n",
      "\tHost: sky.esa.int\n",
      "\tUse HTTPS: True\n",
      "\tPort: 443\n",
      "\tSSL Port: 443\n"
     ]
    }
   ],
   "source": [
    "from astroquery.esasky import ESASky"
   ]
  },
  {
   "cell_type": "code",
   "execution_count": 2,
   "metadata": {},
   "outputs": [
    {
     "name": "stdout",
     "output_type": "stream",
     "text": [
      "                            archive_link                             ...\n",
      "-------------------------------------------------------------------- ...\n",
      "http://nida.esac.esa.int/nida-cl-web/?ACTION=OBSERVATION&ID=82200287 ...\n",
      "http://nida.esac.esa.int/nida-cl-web/?ACTION=OBSERVATION&ID=82200904 ...\n"
     ]
    }
   ],
   "source": [
    "ESASky.query(query='SELECT TOP 2 * FROM observations.mv_nida_images_fdw').pprint()"
   ]
  },
  {
   "cell_type": "code",
   "execution_count": 3,
   "metadata": {},
   "outputs": [
    {
     "name": "stdout",
     "output_type": "stream",
     "text": [
      "                            archive_link                             ...\n",
      "-------------------------------------------------------------------- ...\n",
      "http://nida.esac.esa.int/nida-cl-web/?ACTION=OBSERVATION&ID=82200287 ...\n",
      "http://nida.esac.esa.int/nida-cl-web/?ACTION=OBSERVATION&ID=82200904 ...\n"
     ]
    }
   ],
   "source": [
    "#Save raw response to file\n",
    "ESASky.query(query='SELECT TOP 2 * FROM observations.mv_nida_images_fdw', output_file='raw_response.vot').pprint()"
   ]
  },
  {
   "cell_type": "code",
   "execution_count": 4,
   "metadata": {},
   "outputs": [
    {
     "name": "stdout",
     "output_type": "stream",
     "text": [
      "INFO: Retrieving tables... [astroquery.utils.tap.core]\n",
      "INFO: Parsing tables... [astroquery.utils.tap.core]\n",
      "INFO: Done. [astroquery.utils.tap.core]\n"
     ]
    },
    {
     "data": {
      "text/plain": [
       "['public.dual',\n",
       " 'public.function_dummy',\n",
       " 'sso_20190705.xmatch_herschel_aster',\n",
       " 'sso_20190705.xmatch_hst_aster',\n",
       " 'sso_20190705.xmatch_xmm_aster',\n",
       " 'tap_schema.columns',\n",
       " 'tap_schema.functions',\n",
       " 'tap_schema.functions_arguments',\n",
       " 'tap_schema.keys',\n",
       " 'tap_schema.schemas',\n",
       " 'tap_schema.tables',\n",
       " 'observations.mv_akari_irc_fdw',\n",
       " 'observations.mv_chandra_obs_photo_fdw',\n",
       " 'observations.mv_chandra_obs_spectra_fdw',\n",
       " 'observations.mv_cheops_obs_fdw',\n",
       " 'observations.mv_ida_data_fdw',\n",
       " 'observations.mv_iso_spectra_fdw',\n",
       " 'observations.mv_iue_spectra_fdw',\n",
       " 'observations.mv_nida_images_fdw',\n",
       " 'observations.mv_spitzer_irac_fdw',\n",
       " 'observations.mv_suzaku_data_fdw',\n",
       " 'observations.mv_t_v_obscore_isla_fdw',\n",
       " 'observations.mv_v_esasky_xmm_om_optical_fdw',\n",
       " 'observations.mv_v_esasky_xmm_om_uv_fdw',\n",
       " 'observations.mv_v_jwst_obs_fdw',\n",
       " 'observations.mv_v_nida_spectra_fdw',\n",
       " 'observations.mv_v_obscore_isla_fdw_fdw',\n",
       " 'observations.mv_v_v_alma_obs_fdw',\n",
       " 'observations.mv_v_v_hsa_esasky_photo_fdw_fdw',\n",
       " 'observations.mv_v_v_hsa_esasky_spectra_fdw_fdw',\n",
       " 'observations.mv_v_v_hst_mmi_observation_fdw_fdw',\n",
       " 'observations.mv_v_v_hst_mmi_observation_infrared_fdw_fdw',\n",
       " 'observations.mv_v_v_hst_mmi_observation_optical_fdw_fdw',\n",
       " 'observations.mv_v_v_hst_mmi_observation_uv_fdw_fdw',\n",
       " 'observations.mv_v_v_hst_mmi_spectra_infrared_fdw_fdw',\n",
       " 'observations.mv_v_v_hst_mmi_spectra_optical_fdw_fdw',\n",
       " 'observations.mv_v_v_hst_mmi_spectra_uv_fdw_fdw',\n",
       " 'observations.mv_v_v_xsa_esasky_photo_fdw_fdw',\n",
       " 'observations.mv_v_v_xsa_spectra_rgs_fdw_fdw',\n",
       " 'catalogues.integral_ibis',\n",
       " 'catalogues.mv_hipparcos_fdw',\n",
       " 'catalogues.mv_pcss_catalog_excluded_fdw',\n",
       " 'catalogues.mv_pcss_catalog_hfi_fdw',\n",
       " 'catalogues.mv_pcss_catalog_lfi_fdw',\n",
       " 'catalogues.mv_t_chandra_csc2_fdw',\n",
       " 'catalogues.mv_t_hubble_scv3_fdw',\n",
       " 'catalogues.mv_tycho2_fdw',\n",
       " 'catalogues.mv_v_gcc_catalog_fdw',\n",
       " 'catalogues.mv_v_hsa_cat_hppsc_070_fdw',\n",
       " 'catalogues.mv_v_hsa_cat_hppsc_100_fdw',\n",
       " 'catalogues.mv_v_hsa_cat_hppsc_160_fdw',\n",
       " 'catalogues.mv_v_hsa_cat_spsc_250_fdw',\n",
       " 'catalogues.mv_v_hsa_cat_spsc_350_fdw',\n",
       " 'catalogues.mv_v_hsa_cat_spsc_500_fdw',\n",
       " 'catalogues.mv_v_sz_catalog_fdw',\n",
       " 'catalogues.mv_v_xsa_slew_source_cat_fdw',\n",
       " 'catalogues.mv_xsa_epic_source_cat_dr10_fdw',\n",
       " 'catalogues.mv_xsa_epic_stack_cat_dr10_fdw',\n",
       " 'catalogues.mv_xsa_om_source_cat_5_fdw',\n",
       " 'catalogues.t_akari_point_source_catalogue_fdw',\n",
       " 'catalogues.t_allwise_original_valid_fdw',\n",
       " 'catalogues.t_gaia_source_fdw',\n",
       " 'catalogues.t_spitzer_seip_slphotdr4_fdw',\n",
       " 'catalogues.t_tmass_original_valid_fdw',\n",
       " 'catalogues.t_v_akari_asteroids_flux_cat_fdw',\n",
       " 'catalogues.t_v_lamost_dr5_full_fdw',\n",
       " 'sso.card_reduction_herschel',\n",
       " 'sso.card_reduction_hst',\n",
       " 'sso.card_reduction_xmm',\n",
       " 'sso.count_metadata',\n",
       " 'sso.count_table',\n",
       " 'sso.ssoid',\n",
       " 'sso.xmatch_herschel',\n",
       " 'sso.xmatch_hst',\n",
       " 'sso.xmatch_xmm']"
      ]
     },
     "execution_count": 4,
     "metadata": {},
     "output_type": "execute_result"
    }
   ],
   "source": [
    "table_names=ESASky.get_tables()\n",
    "table_names"
   ]
  },
  {
   "cell_type": "code",
   "execution_count": 5,
   "metadata": {},
   "outputs": [],
   "source": [
    "all_tables_with_info = ESASky.get_tables(only_names=False)\n"
   ]
  },
  {
   "cell_type": "code",
   "execution_count": 6,
   "metadata": {
    "scrolled": true
   },
   "outputs": [
    {
     "name": "stdout",
     "output_type": "stream",
     "text": [
      "TAP Table name: observations.observations.mv_v_nida_spectra_fdw\n",
      "Description: \n",
      "Num. columns: 0\n"
     ]
    }
   ],
   "source": [
    "print(all_tables_with_info[25])"
   ]
  },
  {
   "cell_type": "code",
   "execution_count": 2,
   "metadata": {},
   "outputs": [
    {
     "name": "stdout",
     "output_type": "stream",
     "text": [
      "INFO: Retrieving tables... [astroquery.utils.tap.core]\n",
      "INFO: Parsing tables... [astroquery.utils.tap.core]\n",
      "INFO: Done. [astroquery.utils.tap.core]\n"
     ]
    },
    {
     "data": {
      "text/plain": [
       "['aperture',\n",
       " 'class',\n",
       " 'dec1950',\n",
       " 'decb1950',\n",
       " 'decb1950_j2000',\n",
       " 'dec_deg',\n",
       " 'dec_target',\n",
       " 'disp',\n",
       " 'duration',\n",
       " 'filename',\n",
       " 'fov',\n",
       " 'object',\n",
       " 'observation_id',\n",
       " 'oid',\n",
       " 'posangle',\n",
       " 'postcard_url',\n",
       " 'product_url',\n",
       " 'ra1950',\n",
       " 'rab1950',\n",
       " 'rab1950_j2000',\n",
       " 'ra_deg',\n",
       " 'ra_target',\n",
       " 'start_time',\n",
       " 'stc_s',\n",
       " 'stc_s_circle',\n",
       " 'target_name']"
      ]
     },
     "execution_count": 2,
     "metadata": {},
     "output_type": "execute_result"
    }
   ],
   "source": [
    "column_names = ESASky.get_columns(table_name='observations.mv_iue_spectra_fdw')\n",
    "column_names"
   ]
  },
  {
   "cell_type": "code",
   "execution_count": 3,
   "metadata": {
    "scrolled": false
   },
   "outputs": [
    {
     "name": "stdout",
     "output_type": "stream",
     "text": [
      "TAP Column name: aperture\n",
      "Description: The aperture used for the exposure: Large: large aperture, 10x20 arcsec oval; Small: small aperture, 3 arcsec diameter circle; N/A: not applicable (e.g. NULL and flat field images).\n",
      "Unit: \n",
      "Ucd: None\n",
      "Utype: None\n",
      "DataType: None\n",
      "ArraySize: None\n",
      "Flag: None\n",
      "Flags: 0\n",
      "\n",
      "TAP Column name: class\n",
      "Description: The IUE Object Classification code for the target\n",
      "Unit: \n",
      "Ucd: None\n",
      "Utype: None\n",
      "DataType: None\n",
      "ArraySize: None\n",
      "Flag: None\n",
      "Flags: 0\n",
      "\n",
      "TAP Column name: dec1950\n",
      "Description: The Homogeneous Declination of the object for equinox B1950.\n",
      "Unit: \n",
      "Ucd: None\n",
      "Utype: None\n",
      "DataType: None\n",
      "ArraySize: None\n",
      "Flag: None\n",
      "Flags: 0\n",
      "\n",
      "TAP Column name: decb1950\n",
      "Description: The Homogeneous Declination of the object for equinox B1950 in degrees.\n",
      "Unit: deg\n",
      "Ucd: None\n",
      "Utype: None\n",
      "DataType: None\n",
      "ArraySize: None\n",
      "Flag: None\n",
      "Flags: 0\n",
      "\n",
      "TAP Column name: decb1950_j2000\n",
      "Description: \n",
      "Unit: deg\n",
      "Ucd: None\n",
      "Utype: None\n",
      "DataType: None\n",
      "ArraySize: None\n",
      "Flag: None\n",
      "Flags: 0\n",
      "\n",
      "TAP Column name: dec_deg\n",
      "Description: The Homogeneous Right Ascension of the object for equinox J2000 in degrees.\n",
      "Unit: deg\n",
      "Ucd: pos.eq.dec;meta.main\n",
      "Utype: None\n",
      "DataType: None\n",
      "ArraySize: None\n",
      "Flag: None\n",
      "Flags: 0\n",
      "\n",
      "TAP Column name: dec_target\n",
      "Description: The target Declination for equinox B1950 as provided by the Guest Observer.\n",
      "Unit: \n",
      "Ucd: None\n",
      "Utype: None\n",
      "DataType: None\n",
      "ArraySize: None\n",
      "Flag: None\n",
      "Flags: 0\n",
      "\n",
      "TAP Column name: disp\n",
      "Description: The dispersion mode of the observation: Low : low resolution, ~6Å; High : high resolution, ~0.2Å; N/A : not applicable (e.g. NULL and flat field images).\n",
      "Unit: \n",
      "Ucd: None\n",
      "Utype: None\n",
      "DataType: None\n",
      "ArraySize: None\n",
      "Flag: None\n",
      "Flags: 0\n",
      "\n",
      "TAP Column name: duration\n",
      "Description: The effective exposure time in seconds, i.e. the commanded exposure time corrected for camera rise time and exposure quantization, and for aperture length and trail rate quantization for trailed exposures.\n",
      "Unit: s\n",
      "Ucd: None\n",
      "Utype: None\n",
      "DataType: None\n",
      "ArraySize: None\n",
      "Flag: None\n",
      "Flags: 0\n",
      "\n",
      "TAP Column name: filename\n",
      "Description: Filename(camera)(number)(disp)(aper).FITS\n",
      "Unit: \n",
      "Ucd: None\n",
      "Utype: None\n",
      "DataType: None\n",
      "ArraySize: None\n",
      "Flag: None\n",
      "Flags: 0\n",
      "\n",
      "TAP Column name: fov\n",
      "Description: \n",
      "Unit: \n",
      "Ucd: pos.outline;meta.pgsphere\n",
      "Utype: None\n",
      "DataType: None\n",
      "ArraySize: None\n",
      "Flag: None\n",
      "Flags: 0\n",
      "\n",
      "TAP Column name: object\n",
      "Description: The Homogeneous Object Identifier (HOI) for the target. This field has been defined only for output purposes. It is one of the names of the object given by SIMBAD, or following the IAU Minor Planet Center recommendations in the case of comets and asteroids. \n",
      "Unit: \n",
      "Ucd: None\n",
      "Utype: None\n",
      "DataType: None\n",
      "ArraySize: None\n",
      "Flag: None\n",
      "Flags: 0\n",
      "\n",
      "TAP Column name: observation_id\n",
      "Description: Observation identifier for the IUE observations\n",
      "Unit: \n",
      "Ucd: None\n",
      "Utype: None\n",
      "DataType: None\n",
      "ArraySize: None\n",
      "Flag: None\n",
      "Flags: 0\n",
      "\n",
      "TAP Column name: oid\n",
      "Description: \n",
      "Unit: \n",
      "Ucd: None\n",
      "Utype: None\n",
      "DataType: None\n",
      "ArraySize: None\n",
      "Flag: None\n",
      "Flags: 0\n",
      "\n",
      "TAP Column name: posangle\n",
      "Description: The position angle of the large aperture during the observation.\n",
      "Unit: deg\n",
      "Ucd: None\n",
      "Utype: None\n",
      "DataType: None\n",
      "ArraySize: None\n",
      "Flag: None\n",
      "Flags: 0\n",
      "\n",
      "TAP Column name: postcard_url\n",
      "Description: The URL to download the postcard preview\n",
      "Unit: \n",
      "Ucd: None\n",
      "Utype: None\n",
      "DataType: None\n",
      "ArraySize: None\n",
      "Flag: None\n",
      "Flags: 0\n",
      "\n",
      "TAP Column name: product_url\n",
      "Description: The URL to download the product\n",
      "Unit: \n",
      "Ucd: None\n",
      "Utype: None\n",
      "DataType: None\n",
      "ArraySize: None\n",
      "Flag: None\n",
      "Flags: 0\n",
      "\n",
      "TAP Column name: ra1950\n",
      "Description: The Homogeneous Right Ascension of the object for equinox B1950.\n",
      "Unit: \n",
      "Ucd: None\n",
      "Utype: None\n",
      "DataType: None\n",
      "ArraySize: None\n",
      "Flag: None\n",
      "Flags: 0\n",
      "\n",
      "TAP Column name: rab1950\n",
      "Description: The Homogeneous Right Ascension of the object for equinox B1950 in degrees.\n",
      "Unit: deg\n",
      "Ucd: None\n",
      "Utype: None\n",
      "DataType: None\n",
      "ArraySize: None\n",
      "Flag: None\n",
      "Flags: 0\n",
      "\n",
      "TAP Column name: rab1950_j2000\n",
      "Description: \n",
      "Unit: deg\n",
      "Ucd: None\n",
      "Utype: None\n",
      "DataType: None\n",
      "ArraySize: None\n",
      "Flag: None\n",
      "Flags: 0\n",
      "\n",
      "TAP Column name: ra_deg\n",
      "Description: The Homogeneous Declination of the object for equinox J2000 in degrees.\n",
      "Unit: deg\n",
      "Ucd: pos.eq.ra;meta.main\n",
      "Utype: None\n",
      "DataType: None\n",
      "ArraySize: None\n",
      "Flag: None\n",
      "Flags: 0\n",
      "\n",
      "TAP Column name: ra_target\n",
      "Description: The target Right Ascension for equinox B1950 as provided by the Guest Observer.\n",
      "Unit: \n",
      "Ucd: None\n",
      "Utype: None\n",
      "DataType: None\n",
      "ArraySize: None\n",
      "Flag: None\n",
      "Flags: 0\n",
      "\n",
      "TAP Column name: start_time\n",
      "Description: The U.T. date and time of the start of the exposure\n",
      "Unit: \n",
      "Ucd: None\n",
      "Utype: None\n",
      "DataType: None\n",
      "ArraySize: None\n",
      "Flag: None\n",
      "Flags: 0\n",
      "\n",
      "TAP Column name: stc_s\n",
      "Description: Footprint of the observation in STC string format\n",
      "Unit: \n",
      "Ucd: None\n",
      "Utype: None\n",
      "DataType: None\n",
      "ArraySize: None\n",
      "Flag: None\n",
      "Flags: 0\n",
      "\n",
      "TAP Column name: stc_s_circle\n",
      "Description: \n",
      "Unit: \n",
      "Ucd: None\n",
      "Utype: None\n",
      "DataType: None\n",
      "ArraySize: None\n",
      "Flag: None\n",
      "Flags: 0\n",
      "\n",
      "TAP Column name: target_name\n",
      "Description: The target name as provided by the Guest Observer.\n",
      "Unit: \n",
      "Ucd: None\n",
      "Utype: None\n",
      "DataType: None\n",
      "ArraySize: None\n",
      "Flag: None\n",
      "Flags: 0\n",
      "\n"
     ]
    }
   ],
   "source": [
    "column_names_with_info = ESASky.get_columns(table_name='observations.mv_iue_spectra_fdw', only_names=False)\n",
    "for column in column_names_with_info:\n",
    "    print(column)\n",
    "    print()\n"
   ]
  },
  {
   "cell_type": "markdown",
   "metadata": {},
   "source": [
    "### TAP+\n",
    "Use any of the TAP+ features\n",
    "https://astroquery.readthedocs.io/en/latest/utils/tap.html"
   ]
  },
  {
   "cell_type": "code",
   "execution_count": 9,
   "metadata": {},
   "outputs": [
    {
     "data": {
      "text/plain": [
       "<astroquery.utils.tap.core.TapPlus at 0x12fa5450>"
      ]
     },
     "execution_count": 9,
     "metadata": {},
     "output_type": "execute_result"
    }
   ],
   "source": [
    "ESASky.get_tap()"
   ]
  },
  {
   "cell_type": "markdown",
   "metadata": {},
   "source": [
    "### Query and download by ID's"
   ]
  },
  {
   "cell_type": "code",
   "execution_count": 10,
   "metadata": {},
   "outputs": [
    {
     "data": {
      "text/plain": [
       "TableList with 1 tables:\n",
       "\t'0:HST-UV' with 15 column(s) and 1 row(s) "
      ]
     },
     "execution_count": 10,
     "metadata": {},
     "output_type": "execute_result"
    }
   ],
   "source": [
    "ESASky.query_ids_maps(observation_ids='lbsk03vbq', missions='HST-UV')"
   ]
  },
  {
   "cell_type": "code",
   "execution_count": 11,
   "metadata": {},
   "outputs": [
    {
     "data": {
      "text/plain": [
       "TableList with 2 tables:\n",
       "\t'0:HERSCHEL' with 15 column(s) and 2 row(s) \n",
       "\t'1:HST-UV' with 15 column(s) and 2 row(s) "
      ]
     },
     "execution_count": 11,
     "metadata": {},
     "output_type": "execute_result"
    }
   ],
   "source": [
    "ESASky.query_ids_maps(observation_ids=['lbsk03vbq', 'ieag90010', '1342221275', '1342221848'], missions=['Herschel', 'HST-UV'])"
   ]
  },
  {
   "cell_type": "code",
   "execution_count": 12,
   "metadata": {},
   "outputs": [
    {
     "data": {
      "text/plain": [
       "TableList with 2 tables:\n",
       "\t'0:CHANDRA-SC2' with 41 column(s) and 2 row(s) \n",
       "\t'1:HIPPARCOS-2' with 45 column(s) and 2 row(s) "
      ]
     },
     "execution_count": 12,
     "metadata": {},
     "output_type": "execute_result"
    }
   ],
   "source": [
    "ESASky.query_ids_catalogs(source_ids=['2CXO J090341.1-322609', '2CXO J090353.8-322642', '44899', '45057'], catalogs=['CHANDRA-SC2', 'Hipparcos-2'])"
   ]
  },
  {
   "cell_type": "code",
   "execution_count": 13,
   "metadata": {},
   "outputs": [
    {
     "data": {
      "text/plain": [
       "TableList with 1 tables:\n",
       "\t'0:XMM-NEWTON' with 16 column(s) and 2 row(s) "
      ]
     },
     "execution_count": 13,
     "metadata": {},
     "output_type": "execute_result"
    }
   ],
   "source": [
    "ESASky.query_ids_spectra(observation_ids=['0001730501', '0011420101'], missions='XMM-NEWTON')"
   ]
  },
  {
   "cell_type": "code",
   "execution_count": 4,
   "metadata": {},
   "outputs": [
    {
     "name": "stdout",
     "output_type": "stream",
     "text": [
      "INFO: Starting download of ISO-IR data. (1 files) [astroquery.esasky.core]\n",
      "INFO: Downloading Observation ID: 02101201 from http://nida.esac.esa.int/nida-sl-tap/data?RETRIEVAL_TYPE=STANDALONE&tdt=2101201 [astroquery.esasky.core]\n",
      "INFO: [Done] [astroquery.esasky.core]\n",
      "INFO: Downloading of ISO-IR data complete. [astroquery.esasky.core]\n",
      "INFO: Starting download of CHANDRA data. (1 files) [astroquery.esasky.core]\n",
      "INFO: Downloading Observation ID: 1005 from https://cdaftp.cfa.harvard.edu/cgi-bin/chaser_ftp_retrieve_file.cgi?filename=cal/ao02/cat2/1005/primary/hrcf01005N005_pha2.fits [astroquery.esasky.core]\n",
      "INFO: [Done] [astroquery.esasky.core]\n",
      "INFO: Downloading of CHANDRA data complete. [astroquery.esasky.core]\n",
      "INFO: Starting download of IUE data. (1 files) [astroquery.esasky.core]\n",
      "INFO: Downloading Observation ID: LWR13178 from http://sdc.cab.inta-csic.es/ines/jsp/SingleDownload.jsp?filename=LWR13178RL.FITS [astroquery.esasky.core]\n",
      "INFO: [Done] [astroquery.esasky.core]\n",
      "INFO: Downloading of IUE data complete. [astroquery.esasky.core]\n",
      "INFO: Starting download of XMM-NEWTON data. (1 files) [astroquery.esasky.core]\n",
      "INFO: Downloading Observation ID: 0001730201 from http://nxsa.esac.esa.int/nxsa-sl/servlet/data-action?RETRIEVAL_TYPE=PRODUCT&OBSERVATION_ID=0001730201&OBS_IMAGE_TYPE=OBS_RGS_FLUXED&PROTOCOL=HTTP [astroquery.esasky.core]\n",
      "INFO: [Done] [astroquery.esasky.core]\n",
      "INFO: Downloading of XMM-NEWTON data complete. [astroquery.esasky.core]\n",
      "INFO: Starting download of HST-IR data. (1 files) [astroquery.esasky.core]\n",
      "INFO: Downloading Observation ID: ibh706cqq from http://archives.esac.esa.int/ehst-sl-server/servlet/data-action?RETRIEVAL_TYPE=SCIENCE_PRODUCT&OBSERVATION_ID=ibh706cqq [astroquery.esasky.core]\n",
      "INFO: [Done] [astroquery.esasky.core]\n",
      "INFO: Downloading of HST-IR data complete. [astroquery.esasky.core]\n",
      "INFO: Starting download of HERSCHEL data. (1 files) [astroquery.esasky.core]\n",
      "INFO: Downloading Observation ID: 1342253595 from http://archives.esac.esa.int/hsa/whsa-tap-server/data?RETRIEVAL_TYPE=STANDALONE&observation_oid=8534581&DATA_RETRIEVAL_ORIGIN=UI [astroquery.esasky.core]\n",
      "INFO: [Done] [astroquery.esasky.core]\n",
      "INFO: Downloading of HERSCHEL data complete. [astroquery.esasky.core]\n",
      "INFO: Starting download of HST-UV data. (1 files) [astroquery.esasky.core]\n",
      "INFO: Downloading Observation ID: z1ax0102t from http://archives.esac.esa.int/ehst-sl-server/servlet/data-action?RETRIEVAL_TYPE=SCIENCE_PRODUCT&OBSERVATION_ID=z1ax0102t [astroquery.esasky.core]\n",
      "INFO: [Done] [astroquery.esasky.core]\n",
      "INFO: Downloading of HST-UV data complete. [astroquery.esasky.core]\n",
      "INFO: Starting download of HST-OPTICAL data. (1 files) [astroquery.esasky.core]\n",
      "INFO: Downloading Observation ID: oeik2s020 from http://archives.esac.esa.int/ehst-sl-server/servlet/data-action?RETRIEVAL_TYPE=SCIENCE_PRODUCT&OBSERVATION_ID=oeik2s020 [astroquery.esasky.core]\n",
      "INFO: [Done] [astroquery.esasky.core]\n",
      "INFO: Downloading of HST-OPTICAL data complete. [astroquery.esasky.core]\n",
      "INFO: Spectra available at C:\\Users\\Henrik\\Dropbox\\vsc\\notebooks\\new_download [astroquery.esasky.core]\n"
     ]
    }
   ],
   "source": [
    "#ESASky.get_spectra(position='m101', radius='14'', missions=['HST-IR', 'XMM-NEWTON', 'HERSCHEL'])\n",
    "\n",
    "missions = ['ISO-IR', 'Chandra', 'IUE', 'XMM-NEWTON', 'HST-IR', 'Herschel', 'HST-UV', 'HST-OPTICAL']\n",
    "observation_ids = ['02101201', '1005', 'LWR13178', '0001730201', 'ibh706cqq', '1342253595', 'z1ax0102t', 'oeik2s020']\n",
    "spectra=ESASky.get_spectra(observation_ids=observation_ids, missions=missions, download_dir='new_download')\n",
    "\n",
    "\n",
    "\n",
    "#images\n",
    "#ESASky.get_images(position='m101', radius='14'', missions='all')\n",
    "\n",
    "#missions = ['SUZAKU', 'ISO-IR', 'Chandra', 'XMM-OM-OPTICAL', 'XMM', 'XMM-OM-UV', 'HST-IR', 'Herschel', 'Spitzer', 'HST-UV', 'HST-OPTICAL']\n",
    "#observation_ids = ['100001010', '01500403', '21171', '0852000101', '0851180201', '0851180201', 'n3tr01c3q', '1342247257', '30002561-25100', 'hst_07553_3h_wfpc2_f160bw_pc', 'ocli05leq']\n",
    "#ESASky.get_images(observation_ids=observation_ids, missions=missions)"
   ]
  },
  {
   "cell_type": "code",
   "execution_count": 15,
   "metadata": {
    "jupyter": {
     "outputs_hidden": true
    }
   },
   "outputs": [
    {
     "data": {
      "text/plain": [
       "{'ISO-IR': [[<astropy.io.fits.hdu.image.PrimaryHDU object at 0x145B4F90>, <astropy.io.fits.hdu.table.TableHDU object at 0x13528B90>]],\n",
       " 'CHANDRA': [[<astropy.io.fits.hdu.image.PrimaryHDU object at 0x145B4090>, <astropy.io.fits.hdu.table.BinTableHDU object at 0x1358FF30>, <astropy.io.fits.hdu.table.BinTableHDU object at 0x14585FB0>]],\n",
       " 'IUE': [[<astropy.io.fits.hdu.image.PrimaryHDU object at 0x145BC310>, <astropy.io.fits.hdu.table.BinTableHDU object at 0x13543590>]],\n",
       " 'XMM-NEWTON': [[<astropy.io.fits.hdu.image.PrimaryHDU object at 0x145E46F0>, <astropy.io.fits.hdu.table.BinTableHDU object at 0x14566930>]],\n",
       " 'HST-IR': [[<astropy.io.fits.hdu.image.PrimaryHDU object at 0x14603150>, <astropy.io.fits.hdu.image.ImageHDU object at 0x1459FFB0>, <astropy.io.fits.hdu.image.ImageHDU object at 0x14670770>, <astropy.io.fits.hdu.image.ImageHDU object at 0x146B08B0>, <astropy.io.fits.hdu.table.BinTableHDU object at 0x14572530>]],\n",
       " 'HERSCHEL': {'1342253595': {'WBS': {'WBS-V_USB_4b': [<astropy.io.fits.hdu.image.PrimaryHDU object at 0x1466F3F0>, <astropy.io.fits.hdu.table.BinTableHDU object at 0x146BB850>, <astropy.io.fits.hdu.image.ImageHDU object at 0x146BBCB0>, <astropy.io.fits.hdu.table.BinTableHDU object at 0x146BBFF0>, <astropy.io.fits.hdu.table.BinTableHDU object at 0x146BF5B0>, <astropy.io.fits.hdu.table.BinTableHDU object at 0x146BFF30>]},\n",
       "   'HRS': {'HRS-H_LSB_4b': [<astropy.io.fits.hdu.image.PrimaryHDU object at 0x14677F30>, <astropy.io.fits.hdu.table.BinTableHDU object at 0x146C9150>, <astropy.io.fits.hdu.image.ImageHDU object at 0x146C95B0>, <astropy.io.fits.hdu.table.BinTableHDU object at 0x146C98B0>, <astropy.io.fits.hdu.table.BinTableHDU object at 0x146C9E90>, <astropy.io.fits.hdu.table.BinTableHDU object at 0x146CC830>]}}},\n",
       " 'HST-UV': [[<astropy.io.fits.hdu.image.PrimaryHDU object at 0x1464D610>]],\n",
       " 'HST-OPTICAL': [[<astropy.io.fits.hdu.image.PrimaryHDU object at 0x145F8310>, <astropy.io.fits.hdu.image.ImageHDU object at 0x146D11D0>, <astropy.io.fits.hdu.image.ImageHDU object at 0x146D1950>, <astropy.io.fits.hdu.image.ImageHDU object at 0x146D1FD0>],\n",
       "  [<astropy.io.fits.hdu.image.PrimaryHDU object at 0x14685450>, <astropy.io.fits.hdu.table.BinTableHDU object at 0x146CCFD0>]]}"
      ]
     },
     "execution_count": 15,
     "metadata": {},
     "output_type": "execute_result"
    }
   ],
   "source": [
    "spectra"
   ]
  },
  {
   "cell_type": "code",
   "execution_count": 16,
   "metadata": {},
   "outputs": [
    {
     "data": {
      "text/plain": [
       "[<astropy.io.fits.hdu.image.PrimaryHDU object at 0x145B4090>, <astropy.io.fits.hdu.table.BinTableHDU object at 0x1358FF30>, <astropy.io.fits.hdu.table.BinTableHDU object at 0x14585FB0>]"
      ]
     },
     "execution_count": 16,
     "metadata": {},
     "output_type": "execute_result"
    }
   ],
   "source": [
    "spectra['CHANDRA'][0]"
   ]
  },
  {
   "cell_type": "markdown",
   "metadata": {},
   "source": [
    "### SSO"
   ]
  },
  {
   "cell_type": "code",
   "execution_count": 17,
   "metadata": {},
   "outputs": [
    {
     "name": "stdout",
     "output_type": "stream",
     "text": [
      "TableList with 3 tables:\n",
      "\t'0:HERSCHEL' with 45 column(s) and 4 row(s) \n",
      "\t'1:HST' with 45 column(s) and 82 row(s) \n",
      "\t'2:XMM' with 45 column(s) and 1 row(s) \n",
      "TableList with 3 tables:\n",
      "\t'0:HERSCHEL' with 45 column(s) and 4 row(s) \n",
      "\t'1:HST' with 45 column(s) and 82 row(s) \n",
      "\t'2:XMM' with 45 column(s) and 1 row(s) \n"
     ]
    }
   ],
   "source": [
    "#alias\n",
    "_67p=ESASky.query_sso(sso_name='67P')\n",
    "p_churyumov=ESASky.query_sso(sso_name='P/Churyumov-Gerasimenko')\n",
    "print(_67p)\n",
    "print(p_churyumov)"
   ]
  },
  {
   "cell_type": "code",
   "execution_count": 18,
   "metadata": {},
   "outputs": [
    {
     "data": {
      "text/plain": [
       "[{'aliases': ['1969 IV',\n",
       "   '1969 R1',\n",
       "   '1969h',\n",
       "   '1975 P1',\n",
       "   '1975i',\n",
       "   '1976 VII',\n",
       "   '1982 VIII',\n",
       "   '1982f',\n",
       "   '1988i',\n",
       "   '1989 VI',\n",
       "   'P/Churyumov-Gerasimenko'],\n",
       "  'sso_name': '67P',\n",
       "  'sso_type': 'COMET'}]"
      ]
     },
     "execution_count": 18,
     "metadata": {},
     "output_type": "execute_result"
    }
   ],
   "source": [
    "ESASky.find_sso(sso_name='67P')"
   ]
  },
  {
   "cell_type": "code",
   "execution_count": 26,
   "metadata": {},
   "outputs": [
    {
     "data": {
      "text/plain": [
       "['Herschel', 'HST', 'XMM']"
      ]
     },
     "execution_count": 26,
     "metadata": {},
     "output_type": "execute_result"
    }
   ],
   "source": [
    "ESASky.list_sso()"
   ]
  },
  {
   "cell_type": "code",
   "execution_count": 19,
   "metadata": {},
   "outputs": [
    {
     "ename": "ValueError",
     "evalue": "Found 2 SSO's with name: Io.\nTry narrowing your search by typing a more specific sso_name.\nYou can also narrow your search by specifying the sso_type.\nAllowed values are ALL, ASTEROID, COMET, SATELLITE, PLANET, DWARF_PLANET, SPACECRAFT, SPACEJUNK, EXOPLANET, STAR.\nThe following SSO's were found:\n{'aliases': ['501', 'J-1', 'J-I'], 'sso_name': 'Io', 'sso_type': 'SATELLITE'}\n{'aliases': ['00085', '1865 SA', '1899 LA', '1899 UA', '2000085', '85', 'I65S00A', 'I99L00A', 'I99U00A'], 'sso_name': 'Io', 'sso_type': 'ASTEROID'}",
     "output_type": "error",
     "traceback": [
      "\u001b[1;31m---------------------------------------------------------------------------\u001b[0m",
      "\u001b[1;31mValueError\u001b[0m                                Traceback (most recent call last)",
      "\u001b[1;32m<ipython-input-19-63e57ea1635e>\u001b[0m in \u001b[0;36m<module>\u001b[1;34m\u001b[0m\n\u001b[1;32m----> 1\u001b[1;33m \u001b[0mESASky\u001b[0m\u001b[1;33m.\u001b[0m\u001b[0mquery_sso\u001b[0m\u001b[1;33m(\u001b[0m\u001b[0msso_name\u001b[0m\u001b[1;33m=\u001b[0m\u001b[1;34m'Io'\u001b[0m\u001b[1;33m,\u001b[0m \u001b[0mmissions\u001b[0m\u001b[1;33m=\u001b[0m\u001b[1;34m'XMM'\u001b[0m\u001b[1;33m)\u001b[0m\u001b[1;33m\u001b[0m\u001b[0m\n\u001b[0m",
      "\u001b[1;32mc:\\users\\henrik\\appdata\\local\\programs\\python\\python36-32\\lib\\site-packages\\astroquery-0.4.3.dev6903-py3.6.egg\\astroquery\\esasky\\core.py\u001b[0m in \u001b[0;36mquery_sso\u001b[1;34m(self, sso_name, sso_type, missions, row_limit)\u001b[0m\n\u001b[0;32m    505\u001b[0m                                      \u001b[0mtype_text\u001b[0m\u001b[1;33m=\u001b[0m\u001b[0mtype_text\u001b[0m\u001b[1;33m,\u001b[0m\u001b[1;33m\u001b[0m\u001b[0m\n\u001b[0;32m    506\u001b[0m                                      \u001b[0mspecify_type\u001b[0m\u001b[1;33m=\u001b[0m\u001b[0mspecify_type\u001b[0m\u001b[1;33m,\u001b[0m\u001b[1;33m\u001b[0m\u001b[0m\n\u001b[1;32m--> 507\u001b[1;33m                                      found_ssos='\\n'.join(map(str, sso)))\n\u001b[0m\u001b[0;32m    508\u001b[0m                              )\n\u001b[0;32m    509\u001b[0m \u001b[1;33m\u001b[0m\u001b[0m\n",
      "\u001b[1;31mValueError\u001b[0m: Found 2 SSO's with name: Io.\nTry narrowing your search by typing a more specific sso_name.\nYou can also narrow your search by specifying the sso_type.\nAllowed values are ALL, ASTEROID, COMET, SATELLITE, PLANET, DWARF_PLANET, SPACECRAFT, SPACEJUNK, EXOPLANET, STAR.\nThe following SSO's were found:\n{'aliases': ['501', 'J-1', 'J-I'], 'sso_name': 'Io', 'sso_type': 'SATELLITE'}\n{'aliases': ['00085', '1865 SA', '1899 LA', '1899 UA', '2000085', '85', 'I65S00A', 'I99L00A', 'I99U00A'], 'sso_name': 'Io', 'sso_type': 'ASTEROID'}"
     ]
    }
   ],
   "source": [
    "ESASky.query_sso(sso_name='Io', missions='XMM')"
   ]
  },
  {
   "cell_type": "code",
   "execution_count": 20,
   "metadata": {},
   "outputs": [
    {
     "name": "stdout",
     "output_type": "stream",
     "text": [
      "     dec_deg       duration        end_time       ... sso_oid_2  sso_type\n",
      "       deg            s              time         ...                    \n",
      "------------------ -------- --------------------- ... --------- ---------\n",
      "          18.83981   111403 2003-04-29T23:37:27.0 ...    781283 satellite\n",
      "          18.81631     6216 2003-04-29T20:48:14.0 ...    781283 satellite\n",
      "            6.2735   122148 2003-11-27T09:09:40.0 ...    781283 satellite\n",
      "          6.195111   133849 2003-11-29T12:17:22.0 ...    781283 satellite\n",
      "         -22.13203    24468 2007-02-25T03:02:10.0 ...    781283 satellite\n",
      "         -22.19036    26713 2007-03-03T14:42:04.0 ...    781283 satellite\n",
      "         -22.22472    26910 2007-03-07T20:20:44.0 ...    781283 satellite\n",
      "         -22.23197    23410 2007-03-09T02:20:09.0 ...    781283 satellite\n",
      "           18.8135     6000 2003-04-28T18:03:20.0 ...    781283 satellite\n",
      "         18.812194     6000 2003-04-28T18:03:20.0 ...    781283 satellite\n",
      "               ...      ...                   ... ...       ...       ...\n",
      "         6.1926111    31200 2003-11-28T07:29:09.0 ...    781283 satellite\n",
      "         6.1748333    31200 2003-11-28T07:29:09.0 ...    781283 satellite\n",
      "23.123333333333335    44200 2014-04-16T09:11:40.0 ...    781283 satellite\n",
      " 23.07611111111111    46000 2014-04-20T14:57:40.0 ...    781283 satellite\n",
      "23.123333333333335    20948 2014-04-16T02:55:08.0 ...    781283 satellite\n",
      "23.120472222222222    22777 2014-04-16T09:22:17.0 ...    781283 satellite\n",
      "           23.0765    20737 2014-04-20T08:11:07.0 ...    781283 satellite\n",
      " 23.07327777777778    24021 2014-04-20T14:59:02.0 ...    781283 satellite\n",
      " 7.867500000000001    53059 2016-05-19T03:29:19.0 ...    781283 satellite\n",
      "7.7683333333333335    52400 2016-05-24T22:32:20.0 ...    781283 satellite\n",
      "Length = 33 rows\n"
     ]
    }
   ],
   "source": [
    "table_list=ESASky.query_sso(sso_name='Io', sso_type='SATELLITE', missions='XMM')\n",
    "xmm_io = table_list['XMM']\n",
    "xmm_io.pprint()"
   ]
  },
  {
   "cell_type": "code",
   "execution_count": 21,
   "metadata": {
    "jupyter": {
     "outputs_hidden": true
    }
   },
   "outputs": [
    {
     "name": "stdout",
     "output_type": "stream",
     "text": [
      "     dec_deg       duration        end_time       ... sso_oid_2  sso_type\n",
      "       deg            s              time         ...                    \n",
      "------------------ -------- --------------------- ... --------- ---------\n",
      "7.7683333333333335    52400 2016-05-24T22:32:20.0 ...    781283 satellite\n"
     ]
    }
   ],
   "source": [
    "xmm_io.remove_rows(list(range(0, 32)))\n",
    "xmm_io.pprint()"
   ]
  },
  {
   "cell_type": "code",
   "execution_count": 22,
   "metadata": {},
   "outputs": [
    {
     "name": "stdout",
     "output_type": "stream",
     "text": [
      "INFO: Starting download of XMM data. (1 files) [astroquery.esasky.core]\n",
      "INFO: Downloading Observation ID: 0781830601 from http://nxsa.esac.esa.int/nxsa-sl/servlet/data-action?RETRIEVAL_TYPE=PRODUCT&OBS_IMAGE_TYPE=OBS_EPIC&PROTOCOL=HTTP&OBSERVATION_ID=0781830601 [astroquery.esasky.core]\n",
      "INFO: [Done] [astroquery.esasky.core]\n",
      "INFO: Downloading of XMM data complete. [astroquery.esasky.core]\n",
      "INFO: Maps available at C:\\Users\\Henrik\\Dropbox\\vsc\\notebooks\\Maps [astroquery.esasky.core]\n"
     ]
    }
   ],
   "source": [
    "fits=ESASky.get_images_sso(table_list=table_list)"
   ]
  },
  {
   "cell_type": "code",
   "execution_count": 23,
   "metadata": {},
   "outputs": [
    {
     "name": "stdout",
     "output_type": "stream",
     "text": [
      "INFO: Starting download of XMM data. (1 files) [astroquery.esasky.core]\n",
      "INFO: Downloading Observation ID: 0763090201 from http://nxsa.esac.esa.int/nxsa-sl/servlet/data-action?RETRIEVAL_TYPE=PRODUCT&OBS_IMAGE_TYPE=OBS_EPIC&PROTOCOL=HTTP&OBSERVATION_ID=0763090201 [astroquery.esasky.core]\n",
      "INFO: [Done] [astroquery.esasky.core]\n",
      "INFO: Downloading of XMM data complete. [astroquery.esasky.core]\n",
      "INFO: Maps available at C:\\Users\\Henrik\\Dropbox\\vsc\\notebooks\\Maps [astroquery.esasky.core]\n"
     ]
    }
   ],
   "source": [
    "fits=ESASky.get_images_sso(sso_name='ceres', missions='XMM')"
   ]
  },
  {
   "cell_type": "code",
   "execution_count": 6,
   "metadata": {},
   "outputs": [
    {
     "name": "stdout",
     "output_type": "stream",
     "text": [
      "INFO: Starting download of XMM data. (1 files) [astroquery.esasky.core]\n",
      "INFO: Downloading Observation ID: 0303420201 from http://nxsa.esac.esa.int/nxsa-sl/servlet/data-action?RETRIEVAL_TYPE=PRODUCT&OBS_IMAGE_TYPE=OBS_EPIC&PROTOCOL=HTTP&OBSERVATION_ID=0303420201 [astroquery.esasky.core]\n",
      "INFO: [Done] [astroquery.esasky.core]\n",
      "INFO: Downloading of XMM data complete. [astroquery.esasky.core]\n",
      "INFO: Maps available at C:\\Users\\Henrik\\Dropbox\\vsc\\notebooks\\Maps [astroquery.esasky.core]\n"
     ]
    },
    {
     "data": {
      "text/plain": [
       "{'XMM': [[<astropy.io.fits.hdu.image.PrimaryHDU object at 0x05B7A6D0>, <astropy.io.fits.hdu.image.ImageHDU object at 0x1186F5B0>, <astropy.io.fits.hdu.image.ImageHDU object at 0x115C8230>, <astropy.io.fits.hdu.image.ImageHDU object at 0x115CE930>]]}"
      ]
     },
     "execution_count": 6,
     "metadata": {},
     "output_type": "execute_result"
    }
   ],
   "source": [
    "ESASky.get_images(observation_ids = '0303420201', missions=['XMM'])"
   ]
  },
  {
   "cell_type": "code",
   "execution_count": 8,
   "metadata": {},
   "outputs": [],
   "source": []
  },
  {
   "cell_type": "code",
   "execution_count": 9,
   "metadata": {},
   "outputs": [
    {
     "data": {
      "text/plain": [
       "<module 'astroquery.version' from 'c:\\\\users\\\\henrik\\\\appdata\\\\local\\\\programs\\\\python\\\\python36-32\\\\lib\\\\site-packages\\\\astroquery-0.4.3.dev6903-py3.6.egg\\\\astroquery\\\\version.py'>"
      ]
     },
     "execution_count": 9,
     "metadata": {},
     "output_type": "execute_result"
    }
   ],
   "source": []
  }
 ],
 "metadata": {
  "anaconda-cloud": {},
  "kernelspec": {
   "display_name": "Python 3",
   "language": "python",
   "name": "python3"
  },
  "language_info": {
   "codemirror_mode": {
    "name": "ipython",
    "version": 3
   },
   "file_extension": ".py",
   "mimetype": "text/x-python",
   "name": "python",
   "nbconvert_exporter": "python",
   "pygments_lexer": "ipython3",
   "version": "3.6.5"
  },
  "metadata": {
   "interpreter": {
    "hash": "b7f181dfe8712eab604f66e16f1e368b7509f564beb06590a5ef1754c0400de4"
   }
  }
 },
 "nbformat": 4,
 "nbformat_minor": 4
}
